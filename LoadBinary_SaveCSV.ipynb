{
 "cells": [
  {
   "cell_type": "markdown",
   "metadata": {},
   "source": [
    "September 22 2020\\\n",
    "Dannie Fu\\\n",
    "This file converts binary file into csv file and saves the csv"
   ]
  },
  {
   "cell_type": "code",
   "execution_count": 164,
   "metadata": {},
   "outputs": [],
   "source": [
    "import pandas as pd \n",
    "import struct,os,sys\n",
    "import glob\n",
    "import csv \n",
    "\n",
    "def getTime(startTime, offset, fs):\n",
    "    return startTime + offset*1000/fs\n",
    "\n",
    "# Sampling freqs\n",
    "fs_ACC = 75\n",
    "fs_BVP = 300\n",
    "fs_EDA = 15\n",
    "fs_HRV = 4\n",
    "fs_STR = 15\n",
    "fs_TEMP = 15\n",
    "\n",
    "# Get list of files in session directory \n",
    "sessionDir = '/Volumes/Seagate/danslaNature/session-danslanature-2020-09-19_10h25-bin/'\n",
    "os.chdir(sessionDir)\n",
    "\n",
    "# Get start time \n",
    "sessionFile = sessionDir + 'sessions.csv'\n",
    "startTime = pd.read_csv(sessionFile, sep=\";\",usecols=[\"startTime\"])\n",
    "\n",
    "for file in glob.glob(\"*[!.csv]\"):\n",
    "\n",
    "    prefix = file.split(\"._\")[0]\n",
    "    suffix = file.split(\"._\")[1]\n",
    "    f = open(file,\"rb\")\n",
    "    myStruct=struct.Struct(suffix)\n",
    "\n",
    "    myList = []\n",
    "    time = []\n",
    "\n",
    "    i=0\n",
    "    while True:\n",
    "        data=f.read(myStruct.size)\n",
    "        if len(data)==0: break\n",
    "        a=[*myStruct.unpack(data)]\n",
    "        #print(str(i)+\":\",str(a))\n",
    "        myList.append(a)\n",
    "\n",
    "        if (file.find('EDA') != -1):\n",
    "            time.append(getTime(startTime.startTime[0], i, fs_EDA))\n",
    "        elif (file.find('ACC') != -1):\n",
    "            time.append(getTime(startTime.startTime[0], i, fs_ACC))\n",
    "        elif (file.find('BVP') != -1):\n",
    "            time.append(getTime(startTime.startTime[0], i, fs_BVP))\n",
    "        elif (file.find('HRV') != -1):\n",
    "            time.append(getTime(startTime.startTime[0], i, fs_HRV))\n",
    "        elif (file.find('STR') != -1):\n",
    "            time.append(getTime(startTime.startTime[0], i, fs_STR))\n",
    "        elif (file.find('TEMP') != -1 and file.find('TEMPR') == -1):\n",
    "            time.append(getTime(startTime.startTime[0], i, fs_TEMP))\n",
    "        i+=1\n",
    "\n",
    "    if not time:\n",
    "        df1 = pd.DataFrame(time)\n",
    "        df2 = pd.DataFrame(myList)\n",
    "        df = pd.concat([df1, df2],axis=1)\n",
    "    else:\n",
    "        df = pd.DataFrame(myList)\n",
    "\n",
    "    df.to_csv(prefix +\".csv\", index=False,header=False)  "
   ]
  },
  {
   "cell_type": "code",
   "execution_count": null,
   "metadata": {},
   "outputs": [],
   "source": []
  }
 ],
 "metadata": {
  "kernelspec": {
   "display_name": "Python 3",
   "language": "python",
   "name": "python3"
  },
  "language_info": {
   "codemirror_mode": {
    "name": "ipython",
    "version": 3
   },
   "file_extension": ".py",
   "mimetype": "text/x-python",
   "name": "python",
   "nbconvert_exporter": "python",
   "pygments_lexer": "ipython3",
   "version": "3.8.3"
  }
 },
 "nbformat": 4,
 "nbformat_minor": 4
}
